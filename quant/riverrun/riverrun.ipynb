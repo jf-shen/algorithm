{
 "cells": [
  {
   "cell_type": "code",
   "execution_count": null,
   "id": "a9c30433",
   "metadata": {},
   "outputs": [],
   "source": [
    "import numpy as np \n",
    "\n",
    "def rbf(x, y):\n",
    "    return 1 / np.sqrt(2 * np.pi) * np.exp(-np.sum((x-y)**2) / 2)\n",
    "\n",
    "\n",
    "kernel_fn  ={\n",
    "    'rbf': rbf\n",
    "}\n",
    "\n",
    "def fit_online_dual_svr(X, Y, kernel='rbf', epsilon = 0.1, eta=1e-2):\n",
    "    K = kernel_fn[kernel]\n",
    "    \n",
    "    T, d = X.shape\n",
    "    alpha = np.zeros(T)\n",
    "    alpha_ = np.zeros(T)\n",
    "    \n",
    "    x_list = []\n",
    "    \n",
    "    for i in range(T):\n",
    "        x = X[t]\n",
    "        y = Y[t]\n",
    "        \n",
    "        y_hat = 0\n",
    "        for x_s in x_list:\n",
    "            y_hat += (alpha_ - alpha) * K(x_s, x)\n",
    "            \n",
    "        alpha_ = alpha_ + min(max(eta * (y - y_hat - epsilon), -alpha_), C - alpha_)\n",
    "        alpha = alpha + min(max(eta * (y_hat - y - epsilon), -alpha), C - alpha)\n",
    "    \n",
    "    def svr_fn(x):\n",
    "        res = 0 \n",
    "        for i in range(T):\n",
    "            res += (alpha_ - alpha) * K(x_t, x)\n",
    "        return res\n",
    "    \n",
    "    return svr_fn"
   ]
  },
  {
   "cell_type": "code",
   "execution_count": 1,
   "id": "acab376c",
   "metadata": {},
   "outputs": [
    {
     "ename": "AttributeError",
     "evalue": "'tuple' object has no attribute 'as_list'",
     "output_type": "error",
     "traceback": [
      "\u001b[0;31m---------------------------------------------------------------------------\u001b[0m",
      "\u001b[0;31mAttributeError\u001b[0m                            Traceback (most recent call last)",
      "\u001b[0;32m<ipython-input-1-8699904b0048>\u001b[0m in \u001b[0;36m<module>\u001b[0;34m\u001b[0m\n\u001b[1;32m      4\u001b[0m \u001b[0;34m\u001b[0m\u001b[0m\n\u001b[1;32m      5\u001b[0m \u001b[0mdf\u001b[0m \u001b[0;34m=\u001b[0m \u001b[0mpd\u001b[0m\u001b[0;34m.\u001b[0m\u001b[0mDataFrame\u001b[0m\u001b[0;34m(\u001b[0m\u001b[0;34m{\u001b[0m\u001b[0;34m'a'\u001b[0m\u001b[0;34m:\u001b[0m \u001b[0ma\u001b[0m\u001b[0;34m}\u001b[0m\u001b[0;34m)\u001b[0m\u001b[0;34m\u001b[0m\u001b[0;34m\u001b[0m\u001b[0m\n\u001b[0;32m----> 6\u001b[0;31m \u001b[0mdf\u001b[0m\u001b[0;34m.\u001b[0m\u001b[0mshape\u001b[0m\u001b[0;34m.\u001b[0m\u001b[0mas_list\u001b[0m\u001b[0;34m(\u001b[0m\u001b[0;34m)\u001b[0m\u001b[0;34m\u001b[0m\u001b[0;34m\u001b[0m\u001b[0m\n\u001b[0m\u001b[1;32m      7\u001b[0m \u001b[0;34m\u001b[0m\u001b[0m\n",
      "\u001b[0;31mAttributeError\u001b[0m: 'tuple' object has no attribute 'as_list'"
     ]
    }
   ],
   "source": [
    "import pandas as pd \n",
    "\n",
    "a = [1,2,3,4,5]\n",
    "\n",
    "df = pd.DataFrame({'a': a})\n",
    "df.shape.as_list()\n",
    "    "
   ]
  }
 ],
 "metadata": {
  "kernelspec": {
   "display_name": "Python 3",
   "language": "python",
   "name": "python3"
  },
  "language_info": {
   "codemirror_mode": {
    "name": "ipython",
    "version": 3
   },
   "file_extension": ".py",
   "mimetype": "text/x-python",
   "name": "python",
   "nbconvert_exporter": "python",
   "pygments_lexer": "ipython3",
   "version": "3.8.8"
  }
 },
 "nbformat": 4,
 "nbformat_minor": 5
}
